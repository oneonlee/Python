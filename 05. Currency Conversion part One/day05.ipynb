{
  "nbformat": 4,
  "nbformat_minor": 0,
  "metadata": {
    "colab": {
      "name": "Untitled1.ipynb",
      "provenance": [],
      "collapsed_sections": []
    },
    "kernelspec": {
      "name": "python3",
      "display_name": "Python 3"
    }
  },
  "cells": [
    {
      "cell_type": "markdown",
      "metadata": {
        "id": "Iyte0qlzRK-9"
      },
      "source": [
        "# [Currency Conversion part One](https://repl.it/@oneonlee/Python-Day-Five#main.py)\n",
        "\n",
        "## Challenge goals:\n",
        "### Make a program that gets a list of countries from a website with their currency codes, then let the user choose a country and display the currency code of that country.\n",
        "#### This is part one of a bigger \"country scrapping\" project we will complete in the following days.\n",
        "\n",
        "## 조건\n",
        "### This is how the program should work: [watch the video](https://i.imgur.com/Nh7nkjF.mp4)\n",
        "The website you should get the countries and currencies from is: https://www.iban.com/currency-codes<br>\n",
        "Save the name of the country and the \"Alpha-3 code\" in an array.<br>\n",
        "Some countries don't have currency (No universal currency), don't add them to the list.<br>\n",
        "Check the user input, only numbers from inside the country list are allowed.<br>\n",
        "When a country is selected, show the name and currency code.<br>\n",
        "힌트1: Use try/except when converting strings to numbers. ```( int(input()) )```<br>\n",
        "힌트2: [Index in 'for' loops?](https://stackoverflow.com/questions/522563/accessing-the-index-in-for-loops)<br>"
      ]
    },
    {
      "cell_type": "code",
      "metadata": {
        "id": "cjjLqmhGSt4p"
      },
      "source": [
        "import os\n",
        "import requests\n",
        "from bs4 import BeautifulSoup\n",
        "\n",
        "os.system(\"clear\")\n",
        "url = \"https://www.iban.com/currency-codes\"\n",
        "\n",
        "result=requests.get(url)\n",
        "soup = BeautifulSoup(result.text, \"html.parser\")\n",
        "\n",
        "tbody = soup.tbody\n",
        "tr = tbody.find_all('tr')\n",
        "element = tbody.find_all('td')\n",
        "\n",
        "country_list=[]\n",
        "currency_list=[]\n",
        "code_list=[]\n",
        "number_list=[]\n",
        "\n",
        "for i in range(len(element)):\n",
        "  if i%4 == 0:\n",
        "    country_list.append(\" \".join(element[i].string.split()))\n",
        "  elif i%4 == 1:\n",
        "    currency_list.append(element[i].string)\n",
        "  elif i%4 == 2:\n",
        "    code_list.append(element[i].string)\n",
        "  elif i%4 == 3:\n",
        "    number_list.append(element[i].string)\n",
        "\n",
        "print(\"Hello! Please choose select a country by number : \\n\")\n",
        "for i in range(len(country_list)):\n",
        "  print(f\"#{i} {country_list[i]}\")\n",
        "\n",
        "while True:\n",
        "  try:\n",
        "    user_input = int(input(\"#: \"))\n",
        "    print(f\"You choose {country_list[user_input]}.\")\n",
        "    print(f\"The currency code is {code_list[user_input]}\")\n",
        "    break\n",
        "  except ValueError:\n",
        "    print(\"That wasn't a number.\")\n",
        "  except IndexError:\n",
        "    print(\"Choose a number from the list.\")"
      ],
      "execution_count": null,
      "outputs": []
    }
  ]
}